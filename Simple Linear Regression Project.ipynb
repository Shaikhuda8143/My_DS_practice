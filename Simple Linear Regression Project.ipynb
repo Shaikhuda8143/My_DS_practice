{
 "cells": [
  {
   "cell_type": "markdown",
   "id": "1381d318",
   "metadata": {},
   "source": [
    "# Simple Linear Regression Project"
   ]
  },
  {
   "cell_type": "markdown",
   "id": "a91e1ef1",
   "metadata": {},
   "source": [
    "### Modelling the linear Relationship Height(m) and Weight(kg) of American Women, Age 30-39"
   ]
  },
  {
   "cell_type": "markdown",
   "id": "32209ac8",
   "metadata": {},
   "source": [
    "## Project Overview:\n",
    " \n",
    "In this project, i build a simple linear regression model to study the linear relationship between height and weight of women between the age of 30 t0 39"
   ]
  },
  {
   "cell_type": "markdown",
   "id": "dba0ac96",
   "metadata": {},
   "source": [
    "## Linear Regression\n",
    "Linear Regression is a statistical technique which is used to find the linear relationship between dependent and one or more independent variables. This technique is applicable for Supervised learning Regression problems where we try to predict a continuous variable.\n",
    "\n",
    "Linear Regression can be further classified into two types – Simple and Multiple Linear Regression. In this project, I employ Simple Linear Regression technique where I have one independent and one dependent variable. It is the simplest form of Linear Regression where we fit a straight line to the data."
   ]
  },
  {
   "cell_type": "markdown",
   "id": "83f76137",
   "metadata": {},
   "source": [
    "## Simple Linear Regression (SLR)\n",
    "Simple Linear Regression (or SLR) is the simplest model in machine learning. It models the linear relationship between the independent and dependent variables.\n",
    "\n",
    "In this project, there is one independent or input variable which represents the Sales data and is denoted by X. Similarly, there is one dependent or output variable which represents the Advertising data and is denoted by y. We want to build a linear relationship between these variables. This linear relationship can be modelled by mathematical equation of the form:-\n",
    "\n",
    "             Y = β0   + β1*X    -------------   (1)\n",
    "        In this equation, X and Y are called independent and dependent variables respectively,\n",
    "\n",
    "β1 is the coefficient for independent variable and\n",
    "\n",
    "β0 is the constant term.\n",
    "\n",
    "β0 and β1 are called parameters of the model.\n",
    "\n",
    "For simplicity, we can compare the above equation with the basic line equation of the form:-\n",
    "\n",
    "               y = ax + b       ----------------- (2)\n",
    "\n",
    "We can see that\n",
    "\n",
    "slope of the line is given by, a = β1, and\n",
    "\n",
    "intercept of the line by b = β0.\n",
    "\n",
    "In this Simple Linear Regression model, we want to fit a line which estimates the linear relationship between X and Y. So, the question of fitting reduces to estimating the parameters of the model β0 and β1."
   ]
  },
  {
   "cell_type": "markdown",
   "id": "9fb150a1",
   "metadata": {},
   "source": [
    "## Ordinary Least Square Method\n",
    "As I have described earlier, the Height and Weight data are given by X and y respectively. We can draw a scatter plot between X and y which shows the relationship between them.\n",
    "\n",
    "Now, our task is to find a line which best fits this scatter plot. This line will help us to predict the value of any Target variable for any given Feature variable. This line is called Regression line.\n",
    "\n",
    "This method of finding the parameters of the model and thus regression line is called Ordinary Least Square Method."
   ]
  },
  {
   "cell_type": "markdown",
   "id": "a8f767a9",
   "metadata": {},
   "source": [
    "## The problem statement\n",
    "The aim of building a machine learning model is to solve a problem and to define a metric to measure model performance.\n",
    "\n",
    "The problem is to model and investigate the linear relationship between Wight and height of wome according to their age.\n",
    "\n",
    "I have used two performance metrics RMSE (Root Mean Square Value) and R2 Score value to compute our model performance."
   ]
  },
  {
   "cell_type": "markdown",
   "id": "2cfc5e80",
   "metadata": {},
   "source": [
    "## Software information\n",
    "I did this project using Jupyter notebook (Jupyter notebook server 6.4.5)."
   ]
  },
  {
   "cell_type": "markdown",
   "id": "f825a4ef",
   "metadata": {},
   "source": [
    "## Python Libraries\n",
    "* Numpy – It provides a fast numerical array structure and operating functions.\n",
    "\n",
    "* pandas – It provides tools for data storage, manipulation and analysis tasks.\n",
    "\n",
    "* Scikit-Learn – The required machine learning library in Python.\n",
    "\n",
    "* Matplotlib – It is the basic plotting library in Python. It provides tools for making plots.\n",
    "* Seaborn  - It is a plotting library in python. It provides a high-level interface for drawing attractive and informative statistical graphics."
   ]
  },
  {
   "cell_type": "markdown",
   "id": "7043a936",
   "metadata": {},
   "source": [
    "# 1.Import Necessary Libraries"
   ]
  },
  {
   "cell_type": "code",
   "execution_count": 1,
   "id": "f21033bb",
   "metadata": {},
   "outputs": [],
   "source": [
    "import pandas as pd\n",
    "import numpy as np\n",
    "import seaborn as sns\n",
    "import matplotlib.pyplot as plt\n",
    "%matplotlib inline\n",
    "import warnings\n",
    "warnings.filterwarnings('ignore')\n",
    "# The above command sets the backend of matplotlib to the 'inline' backend. \n",
    "# It means the output of plotting commands is displayed inline."
   ]
  },
  {
   "cell_type": "markdown",
   "id": "66b0d578",
   "metadata": {},
   "source": [
    "# 2. Import Data"
   ]
  },
  {
   "cell_type": "code",
   "execution_count": 2,
   "id": "b8944378",
   "metadata": {},
   "outputs": [
    {
     "data": {
      "text/html": [
       "<div>\n",
       "<style scoped>\n",
       "    .dataframe tbody tr th:only-of-type {\n",
       "        vertical-align: middle;\n",
       "    }\n",
       "\n",
       "    .dataframe tbody tr th {\n",
       "        vertical-align: top;\n",
       "    }\n",
       "\n",
       "    .dataframe thead th {\n",
       "        text-align: right;\n",
       "    }\n",
       "</style>\n",
       "<table border=\"1\" class=\"dataframe\">\n",
       "  <thead>\n",
       "    <tr style=\"text-align: right;\">\n",
       "      <th></th>\n",
       "      <th>Height</th>\n",
       "      <th>Weight</th>\n",
       "    </tr>\n",
       "  </thead>\n",
       "  <tbody>\n",
       "    <tr>\n",
       "      <th>0</th>\n",
       "      <td>1.47</td>\n",
       "      <td>52.21</td>\n",
       "    </tr>\n",
       "    <tr>\n",
       "      <th>1</th>\n",
       "      <td>1.50</td>\n",
       "      <td>53.12</td>\n",
       "    </tr>\n",
       "    <tr>\n",
       "      <th>2</th>\n",
       "      <td>1.52</td>\n",
       "      <td>54.48</td>\n",
       "    </tr>\n",
       "    <tr>\n",
       "      <th>3</th>\n",
       "      <td>1.55</td>\n",
       "      <td>55.84</td>\n",
       "    </tr>\n",
       "    <tr>\n",
       "      <th>4</th>\n",
       "      <td>1.57</td>\n",
       "      <td>57.20</td>\n",
       "    </tr>\n",
       "    <tr>\n",
       "      <th>5</th>\n",
       "      <td>1.60</td>\n",
       "      <td>58.57</td>\n",
       "    </tr>\n",
       "    <tr>\n",
       "      <th>6</th>\n",
       "      <td>1.63</td>\n",
       "      <td>59.93</td>\n",
       "    </tr>\n",
       "    <tr>\n",
       "      <th>7</th>\n",
       "      <td>1.65</td>\n",
       "      <td>61.29</td>\n",
       "    </tr>\n",
       "    <tr>\n",
       "      <th>8</th>\n",
       "      <td>1.68</td>\n",
       "      <td>63.11</td>\n",
       "    </tr>\n",
       "    <tr>\n",
       "      <th>9</th>\n",
       "      <td>1.70</td>\n",
       "      <td>64.47</td>\n",
       "    </tr>\n",
       "    <tr>\n",
       "      <th>10</th>\n",
       "      <td>1.73</td>\n",
       "      <td>66.28</td>\n",
       "    </tr>\n",
       "    <tr>\n",
       "      <th>11</th>\n",
       "      <td>1.75</td>\n",
       "      <td>68.10</td>\n",
       "    </tr>\n",
       "    <tr>\n",
       "      <th>12</th>\n",
       "      <td>1.78</td>\n",
       "      <td>69.92</td>\n",
       "    </tr>\n",
       "    <tr>\n",
       "      <th>13</th>\n",
       "      <td>1.80</td>\n",
       "      <td>72.19</td>\n",
       "    </tr>\n",
       "    <tr>\n",
       "      <th>14</th>\n",
       "      <td>1.83</td>\n",
       "      <td>74.46</td>\n",
       "    </tr>\n",
       "  </tbody>\n",
       "</table>\n",
       "</div>"
      ],
      "text/plain": [
       "    Height  Weight\n",
       "0     1.47   52.21\n",
       "1     1.50   53.12\n",
       "2     1.52   54.48\n",
       "3     1.55   55.84\n",
       "4     1.57   57.20\n",
       "5     1.60   58.57\n",
       "6     1.63   59.93\n",
       "7     1.65   61.29\n",
       "8     1.68   63.11\n",
       "9     1.70   64.47\n",
       "10    1.73   66.28\n",
       "11    1.75   68.10\n",
       "12    1.78   69.92\n",
       "13    1.80   72.19\n",
       "14    1.83   74.46"
      ]
     },
     "execution_count": 2,
     "metadata": {},
     "output_type": "execute_result"
    }
   ],
   "source": [
    "data=pd.read_csv('data.csv')\n",
    "data"
   ]
  },
  {
   "cell_type": "markdown",
   "id": "43ec4b32",
   "metadata": {},
   "source": [
    "# 3. EDA (Exploratory data analysis)"
   ]
  },
  {
   "cell_type": "code",
   "execution_count": 3,
   "id": "5babb14f",
   "metadata": {},
   "outputs": [
    {
     "data": {
      "text/plain": [
       "(15, 2)"
      ]
     },
     "execution_count": 3,
     "metadata": {},
     "output_type": "execute_result"
    }
   ],
   "source": [
    "#View the dimensions of data\n",
    "data.shape"
   ]
  },
  {
   "cell_type": "code",
   "execution_count": 4,
   "id": "f72c458a",
   "metadata": {},
   "outputs": [
    {
     "data": {
      "text/html": [
       "<div>\n",
       "<style scoped>\n",
       "    .dataframe tbody tr th:only-of-type {\n",
       "        vertical-align: middle;\n",
       "    }\n",
       "\n",
       "    .dataframe tbody tr th {\n",
       "        vertical-align: top;\n",
       "    }\n",
       "\n",
       "    .dataframe thead th {\n",
       "        text-align: right;\n",
       "    }\n",
       "</style>\n",
       "<table border=\"1\" class=\"dataframe\">\n",
       "  <thead>\n",
       "    <tr style=\"text-align: right;\">\n",
       "      <th></th>\n",
       "      <th>Height</th>\n",
       "      <th>Weight</th>\n",
       "    </tr>\n",
       "  </thead>\n",
       "  <tbody>\n",
       "    <tr>\n",
       "      <th>0</th>\n",
       "      <td>1.47</td>\n",
       "      <td>52.21</td>\n",
       "    </tr>\n",
       "    <tr>\n",
       "      <th>1</th>\n",
       "      <td>1.50</td>\n",
       "      <td>53.12</td>\n",
       "    </tr>\n",
       "    <tr>\n",
       "      <th>2</th>\n",
       "      <td>1.52</td>\n",
       "      <td>54.48</td>\n",
       "    </tr>\n",
       "    <tr>\n",
       "      <th>3</th>\n",
       "      <td>1.55</td>\n",
       "      <td>55.84</td>\n",
       "    </tr>\n",
       "    <tr>\n",
       "      <th>4</th>\n",
       "      <td>1.57</td>\n",
       "      <td>57.20</td>\n",
       "    </tr>\n",
       "  </tbody>\n",
       "</table>\n",
       "</div>"
      ],
      "text/plain": [
       "   Height  Weight\n",
       "0    1.47   52.21\n",
       "1    1.50   53.12\n",
       "2    1.52   54.48\n",
       "3    1.55   55.84\n",
       "4    1.57   57.20"
      ]
     },
     "execution_count": 4,
     "metadata": {},
     "output_type": "execute_result"
    }
   ],
   "source": [
    "#view the top 5 rows of data\n",
    "data.head()"
   ]
  },
  {
   "cell_type": "code",
   "execution_count": 5,
   "id": "3ba6ae84",
   "metadata": {},
   "outputs": [
    {
     "name": "stdout",
     "output_type": "stream",
     "text": [
      "<class 'pandas.core.frame.DataFrame'>\n",
      "RangeIndex: 15 entries, 0 to 14\n",
      "Data columns (total 2 columns):\n",
      " #   Column  Non-Null Count  Dtype  \n",
      "---  ------  --------------  -----  \n",
      " 0   Height  15 non-null     float64\n",
      " 1   Weight  15 non-null     float64\n",
      "dtypes: float64(2)\n",
      "memory usage: 368.0 bytes\n"
     ]
    }
   ],
   "source": [
    "#view data summary\n",
    "data.info()"
   ]
  },
  {
   "cell_type": "code",
   "execution_count": 6,
   "id": "6876af57",
   "metadata": {},
   "outputs": [
    {
     "data": {
      "text/html": [
       "<div>\n",
       "<style scoped>\n",
       "    .dataframe tbody tr th:only-of-type {\n",
       "        vertical-align: middle;\n",
       "    }\n",
       "\n",
       "    .dataframe tbody tr th {\n",
       "        vertical-align: top;\n",
       "    }\n",
       "\n",
       "    .dataframe thead th {\n",
       "        text-align: right;\n",
       "    }\n",
       "</style>\n",
       "<table border=\"1\" class=\"dataframe\">\n",
       "  <thead>\n",
       "    <tr style=\"text-align: right;\">\n",
       "      <th></th>\n",
       "      <th>Height</th>\n",
       "      <th>Weight</th>\n",
       "    </tr>\n",
       "  </thead>\n",
       "  <tbody>\n",
       "    <tr>\n",
       "      <th>count</th>\n",
       "      <td>15.000000</td>\n",
       "      <td>15.000000</td>\n",
       "    </tr>\n",
       "    <tr>\n",
       "      <th>mean</th>\n",
       "      <td>1.650667</td>\n",
       "      <td>62.078000</td>\n",
       "    </tr>\n",
       "    <tr>\n",
       "      <th>std</th>\n",
       "      <td>0.114235</td>\n",
       "      <td>7.037515</td>\n",
       "    </tr>\n",
       "    <tr>\n",
       "      <th>min</th>\n",
       "      <td>1.470000</td>\n",
       "      <td>52.210000</td>\n",
       "    </tr>\n",
       "    <tr>\n",
       "      <th>25%</th>\n",
       "      <td>1.560000</td>\n",
       "      <td>56.520000</td>\n",
       "    </tr>\n",
       "    <tr>\n",
       "      <th>50%</th>\n",
       "      <td>1.650000</td>\n",
       "      <td>61.290000</td>\n",
       "    </tr>\n",
       "    <tr>\n",
       "      <th>75%</th>\n",
       "      <td>1.740000</td>\n",
       "      <td>67.190000</td>\n",
       "    </tr>\n",
       "    <tr>\n",
       "      <th>max</th>\n",
       "      <td>1.830000</td>\n",
       "      <td>74.460000</td>\n",
       "    </tr>\n",
       "  </tbody>\n",
       "</table>\n",
       "</div>"
      ],
      "text/plain": [
       "          Height     Weight\n",
       "count  15.000000  15.000000\n",
       "mean    1.650667  62.078000\n",
       "std     0.114235   7.037515\n",
       "min     1.470000  52.210000\n",
       "25%     1.560000  56.520000\n",
       "50%     1.650000  61.290000\n",
       "75%     1.740000  67.190000\n",
       "max     1.830000  74.460000"
      ]
     },
     "execution_count": 6,
     "metadata": {},
     "output_type": "execute_result"
    }
   ],
   "source": [
    "#view descriptive Satistics\n",
    "data.describe()"
   ]
  },
  {
   "cell_type": "code",
   "execution_count": 7,
   "id": "99bb1fc9",
   "metadata": {},
   "outputs": [
    {
     "data": {
      "text/plain": [
       "Height    float64\n",
       "Weight    float64\n",
       "dtype: object"
      ]
     },
     "execution_count": 7,
     "metadata": {},
     "output_type": "execute_result"
    }
   ],
   "source": [
    "#checking the datatypes\n",
    "data.dtypes"
   ]
  },
  {
   "cell_type": "markdown",
   "id": "044c1574",
   "metadata": {},
   "source": [
    "## Independent and Dependent Variables\n",
    "In this project, I refer Independent variable as Feature variable and Dependent variable as Target variable. These variables are also recognized by different names as follows: -"
   ]
  },
  {
   "cell_type": "markdown",
   "id": "1eca3768",
   "metadata": {},
   "source": [
    "### Independent variable\n",
    "Independent variable is also called Input variable and is denoted by X. In practical applications, independent variable is also called Feature variable or Predictor variable. We can denote it as:-\n",
    "\n",
    "Independent or Input variable (X) = Feature variable = Predictor variable\n",
    "\n",
    "### Dependent variable\n",
    "Dependent variable is also called Output variable and is denoted by y.\n",
    "\n",
    "Dependent variable is also called Target variable or Response variable. It can be denoted it as follows:-\n",
    "\n",
    "Dependent or Output variable (y) = Target variable = Response variable"
   ]
  },
  {
   "cell_type": "markdown",
   "id": "a954031b",
   "metadata": {},
   "source": [
    "## Visual exploratory data analysis\n",
    "I visualize the relationship between X and y by plotting a scatterplot between X and y."
   ]
  },
  {
   "cell_type": "code",
   "execution_count": 8,
   "id": "c47d930f",
   "metadata": {},
   "outputs": [
    {
     "data": {
      "image/png": "[encoded data removed]",
      "text/plain": [
       "<Figure size 432x288 with 1 Axes>"
      ]
     },
     "metadata": {
      "needs_background": "light"
     },
     "output_type": "display_data"
    }
   ],
   "source": [
    "# Plot scatter plot between X and y\n",
    "\n",
    "plt.scatter(x='Height',y='Weight',data=data)\n",
    "plt.title('Relationship between Height and Weight',size=16)\n",
    "plt.xlabel('Height', size= 13)\n",
    "plt.ylabel('Weight', size= 13)\n",
    "plt.legend(loc=2)\n",
    "plt.show()"
   ]
  },
  {
   "cell_type": "markdown",
   "id": "c6a42ab1",
   "metadata": {},
   "source": [
    "# 4. Model Assumptions"
   ]
  },
  {
   "cell_type": "markdown",
   "id": "6ada6c0e",
   "metadata": {},
   "source": [
    "### 1. Normality Test"
   ]
  },
  {
   "cell_type": "code",
   "execution_count": 9,
   "id": "cd5a5104",
   "metadata": {},
   "outputs": [
    {
     "data": {
      "image/png": "[encoded data removed]",
      "text/plain": [
       "<Figure size 432x288 with 1 Axes>"
      ]
     },
     "metadata": {
      "needs_background": "light"
     },
     "output_type": "display_data"
    }
   ],
   "source": [
    "sns.distplot(a=data['Height'],hist= False)\n",
    "plt.show()"
   ]
  },
  {
   "cell_type": "code",
   "execution_count": 10,
   "id": "3ae7180b",
   "metadata": {},
   "outputs": [
    {
     "data": {
      "image/png": "[encoded data removed]",
      "text/plain": [
       "<Figure size 432x288 with 1 Axes>"
      ]
     },
     "metadata": {
      "needs_background": "light"
     },
     "output_type": "display_data"
    }
   ],
   "source": [
    "sns.distplot(a=data['Weight'],hist= False)\n",
    "plt.show()"
   ]
  },
  {
   "cell_type": "code",
   "execution_count": 11,
   "id": "737985bb",
   "metadata": {},
   "outputs": [
    {
     "data": {
      "text/plain": [
       "-0.01915113923611277"
      ]
     },
     "execution_count": 11,
     "metadata": {},
     "output_type": "execute_result"
    }
   ],
   "source": [
    "data['Height'].skew()"
   ]
  },
  {
   "cell_type": "code",
   "execution_count": 12,
   "id": "fd25faec",
   "metadata": {},
   "outputs": [
    {
     "data": {
      "text/plain": [
       "0.28166540234898235"
      ]
     },
     "execution_count": 12,
     "metadata": {},
     "output_type": "execute_result"
    }
   ],
   "source": [
    "data['Weight'].skew()"
   ]
  },
  {
   "cell_type": "markdown",
   "id": "9f126abe",
   "metadata": {},
   "source": [
    "## Inference:\n",
    "    Skewness=0, Kurtosis=0\n",
    "    It is normally distributed\n",
    " #### Normality Test is Passed   "
   ]
  },
  {
   "cell_type": "markdown",
   "id": "2dba7783",
   "metadata": {},
   "source": [
    "### 2. Linearity Test"
   ]
  },
  {
   "cell_type": "code",
   "execution_count": 13,
   "id": "44c5ec7b",
   "metadata": {},
   "outputs": [
    {
     "data": {
      "image/png": "[encoded data removed]",
      "text/plain": [
       "<Figure size 360x360 with 1 Axes>"
      ]
     },
     "metadata": {
      "needs_background": "light"
     },
     "output_type": "display_data"
    }
   ],
   "source": [
    "sns.lmplot(x='Height',y='Weight',data=data)\n",
    "plt.title('Heught Vs Weight')\n",
    "plt.show()"
   ]
  },
  {
   "cell_type": "markdown",
   "id": "cedad1a6",
   "metadata": {},
   "source": [
    "### Linearity also passed"
   ]
  },
  {
   "cell_type": "markdown",
   "id": "5addf2fc",
   "metadata": {},
   "source": [
    "### 3. No Multicollinearity Test\n",
    "We cannot perform here as we are having only one input feature."
   ]
  },
  {
   "cell_type": "markdown",
   "id": "4aca0c69",
   "metadata": {},
   "source": [
    "### 4. No AutoRegression Test\n",
    "We cannot perform here as we are having only one input feature and that is also not time based feature."
   ]
  },
  {
   "cell_type": "markdown",
   "id": "7bfe7a53",
   "metadata": {},
   "source": [
    "### 5. Homoscadasticity Test\n",
    " We can perform homoscadasticity after model building"
   ]
  },
  {
   "cell_type": "markdown",
   "id": "3ef6be92",
   "metadata": {},
   "source": [
    "### 6. Zero Residual Mean \n",
    "All the points are fallen on the best fit line (There is Zero Error)"
   ]
  },
  {
   "cell_type": "markdown",
   "id": "c52397e1",
   "metadata": {},
   "source": [
    "#### NOTE:\n",
    "Linear Regression can be performed by using 2 libraries:\n",
    "\n",
    "1. Statsmodels - OLS[Ordinary Least Square]\n",
    "\n",
    "2. sklearn - LinearRegression()\n",
    "\n",
    "Here am using Statsmodels for linear regession"
   ]
  },
  {
   "cell_type": "markdown",
   "id": "bbd8bcf9",
   "metadata": {},
   "source": [
    "## Correlation :"
   ]
  },
  {
   "cell_type": "code",
   "execution_count": 14,
   "id": "678a63b8",
   "metadata": {},
   "outputs": [
    {
     "data": {
      "text/plain": [
       "0.9945837935768895"
      ]
     },
     "execution_count": 14,
     "metadata": {},
     "output_type": "execute_result"
    }
   ],
   "source": [
    "data['Height'].corr(data['Weight'])"
   ]
  },
  {
   "cell_type": "code",
   "execution_count": 15,
   "id": "d27fd5d2",
   "metadata": {},
   "outputs": [],
   "source": [
    "#Both input and output features are highly correlated as the correlation value is near to '1'"
   ]
  },
  {
   "cell_type": "markdown",
   "id": "134c171d",
   "metadata": {},
   "source": [
    "# 5.1 Model building and Model Training Using stats models"
   ]
  },
  {
   "cell_type": "code",
   "execution_count": 16,
   "id": "92da818b",
   "metadata": {},
   "outputs": [],
   "source": [
    "import statsmodels.formula.api as smf"
   ]
  },
  {
   "cell_type": "code",
   "execution_count": 17,
   "id": "87b947c9",
   "metadata": {},
   "outputs": [],
   "source": [
    "stats_linear_model=smf.ols(formula='Weight~Height', data=data).fit()"
   ]
  },
  {
   "cell_type": "code",
   "execution_count": 18,
   "id": "21e19ab4",
   "metadata": {},
   "outputs": [
    {
     "data": {
      "text/plain": [
       "Intercept   -39.061956\n",
       "Height       61.272187\n",
       "dtype: float64"
      ]
     },
     "execution_count": 18,
     "metadata": {},
     "output_type": "execute_result"
    }
   ],
   "source": [
    "stats_linear_model.params"
   ]
  },
  {
   "cell_type": "code",
   "execution_count": 19,
   "id": "9d754803",
   "metadata": {},
   "outputs": [
    {
     "data": {
      "text/html": [
       "<table class=\"simpletable\">\n",
       "<caption>OLS Regression Results</caption>\n",
       "<tr>\n",
       "  <th>Dep. Variable:</th>         <td>Weight</td>      <th>  R-squared:         </th> <td>   0.989</td>\n",
       "</tr>\n",
       "<tr>\n",
       "  <th>Model:</th>                   <td>OLS</td>       <th>  Adj. R-squared:    </th> <td>   0.988</td>\n",
       "</tr>\n",
       "<tr>\n",
       "  <th>Method:</th>             <td>Least Squares</td>  <th>  F-statistic:       </th> <td>   1190.</td>\n",
       "</tr>\n",
       "<tr>\n",
       "  <th>Date:</th>             <td>Mon, 28 Feb 2022</td> <th>  Prob (F-statistic):</th> <td>3.60e-14</td>\n",
       "</tr>\n",
       "<tr>\n",
       "  <th>Time:</th>                 <td>22:03:37</td>     <th>  Log-Likelihood:    </th> <td> -16.076</td>\n",
       "</tr>\n",
       "<tr>\n",
       "  <th>No. Observations:</th>      <td>    15</td>      <th>  AIC:               </th> <td>   36.15</td>\n",
       "</tr>\n",
       "<tr>\n",
       "  <th>Df Residuals:</th>          <td>    13</td>      <th>  BIC:               </th> <td>   37.57</td>\n",
       "</tr>\n",
       "<tr>\n",
       "  <th>Df Model:</th>              <td>     1</td>      <th>                     </th>     <td> </td>   \n",
       "</tr>\n",
       "<tr>\n",
       "  <th>Covariance Type:</th>      <td>nonrobust</td>    <th>                     </th>     <td> </td>   \n",
       "</tr>\n",
       "</table>\n",
       "<table class=\"simpletable\">\n",
       "<tr>\n",
       "      <td></td>         <th>coef</th>     <th>std err</th>      <th>t</th>      <th>P>|t|</th>  <th>[0.025</th>    <th>0.975]</th>  \n",
       "</tr>\n",
       "<tr>\n",
       "  <th>Intercept</th> <td>  -39.0620</td> <td>    2.938</td> <td>  -13.295</td> <td> 0.000</td> <td>  -45.409</td> <td>  -32.715</td>\n",
       "</tr>\n",
       "<tr>\n",
       "  <th>Height</th>    <td>   61.2722</td> <td>    1.776</td> <td>   34.502</td> <td> 0.000</td> <td>   57.436</td> <td>   65.109</td>\n",
       "</tr>\n",
       "</table>\n",
       "<table class=\"simpletable\">\n",
       "<tr>\n",
       "  <th>Omnibus:</th>       <td> 1.635</td> <th>  Durbin-Watson:     </th> <td>   0.433</td>\n",
       "</tr>\n",
       "<tr>\n",
       "  <th>Prob(Omnibus):</th> <td> 0.441</td> <th>  Jarque-Bera (JB):  </th> <td>   1.313</td>\n",
       "</tr>\n",
       "<tr>\n",
       "  <th>Skew:</th>          <td> 0.617</td> <th>  Prob(JB):          </th> <td>   0.519</td>\n",
       "</tr>\n",
       "<tr>\n",
       "  <th>Kurtosis:</th>      <td> 2.241</td> <th>  Cond. No.          </th> <td>    33.8</td>\n",
       "</tr>\n",
       "</table><br/><br/>Notes:<br/>[1] Standard Errors assume that the covariance matrix of the errors is correctly specified."
      ],
      "text/plain": [
       "<class 'statsmodels.iolib.summary.Summary'>\n",
       "\"\"\"\n",
       "                            OLS Regression Results                            \n",
       "==============================================================================\n",
       "Dep. Variable:                 Weight   R-squared:                       0.989\n",
       "Model:                            OLS   Adj. R-squared:                  0.988\n",
       "Method:                 Least Squares   F-statistic:                     1190.\n",
       "Date:                Mon, 28 Feb 2022   Prob (F-statistic):           3.60e-14\n",
       "Time:                        22:03:37   Log-Likelihood:                -16.076\n",
       "No. Observations:                  15   AIC:                             36.15\n",
       "Df Residuals:                      13   BIC:                             37.57\n",
       "Df Model:                           1                                         \n",
       "Covariance Type:            nonrobust                                         \n",
       "==============================================================================\n",
       "                 coef    std err          t      P>|t|      [0.025      0.975]\n",
       "------------------------------------------------------------------------------\n",
       "Intercept    -39.0620      2.938    -13.295      0.000     -45.409     -32.715\n",
       "Height        61.2722      1.776     34.502      0.000      57.436      65.109\n",
       "==============================================================================\n",
       "Omnibus:                        1.635   Durbin-Watson:                   0.433\n",
       "Prob(Omnibus):                  0.441   Jarque-Bera (JB):                1.313\n",
       "Skew:                           0.617   Prob(JB):                        0.519\n",
       "Kurtosis:                       2.241   Cond. No.                         33.8\n",
       "==============================================================================\n",
       "\n",
       "Notes:\n",
       "[1] Standard Errors assume that the covariance matrix of the errors is correctly specified.\n",
       "\"\"\""
      ]
     },
     "execution_count": 19,
     "metadata": {},
     "output_type": "execute_result"
    }
   ],
   "source": [
    "stats_linear_model.summary()"
   ]
  },
  {
   "cell_type": "code",
   "execution_count": 20,
   "id": "32cd37fc",
   "metadata": {},
   "outputs": [],
   "source": [
    "#p-value is less than 0.05 so it is a significant value"
   ]
  },
  {
   "cell_type": "markdown",
   "id": "34cbe388",
   "metadata": {},
   "source": [
    "### R-Squared value:\n",
    "In general, the higher the R2 Score value, the better the model fits the data. Usually, its value ranges from 0 to 1. So, we want its value to be as close to 1. Its value can become negative if our model is wrong."
   ]
  },
  {
   "cell_type": "markdown",
   "id": "64e2a3f2",
   "metadata": {},
   "source": [
    "# 5.2 Model Testing"
   ]
  },
  {
   "cell_type": "markdown",
   "id": "59a10108",
   "metadata": {},
   "source": [
    "### Manual Testing"
   ]
  },
  {
   "cell_type": "markdown",
   "id": "de4d9b08",
   "metadata": {},
   "source": [
    "#### y=mx+c\n",
    "\n",
    "If x=1.76(Height(m)), y=Weight?\n",
    "\n",
    "   x=1.62(Height(m)), y=Weight?\n",
    "   \n",
    "   x=1.46(Height(m)), y=Weight?"
   ]
  },
  {
   "cell_type": "code",
   "execution_count": 21,
   "id": "19f8298c",
   "metadata": {},
   "outputs": [
    {
     "name": "stdout",
     "output_type": "stream",
     "text": [
      "68.77709311999999\n"
     ]
    }
   ],
   "source": [
    "y=(61.272187*1.76)+-39.061956\n",
    "print(y)"
   ]
  },
  {
   "cell_type": "code",
   "execution_count": 22,
   "id": "af9be2ef",
   "metadata": {},
   "outputs": [
    {
     "name": "stdout",
     "output_type": "stream",
     "text": [
      "60.198986940000005\n"
     ]
    }
   ],
   "source": [
    "y=(61.272187*1.62)+-39.061956\n",
    "print(y)"
   ]
  },
  {
   "cell_type": "code",
   "execution_count": 23,
   "id": "7ce552dd",
   "metadata": {},
   "outputs": [
    {
     "name": "stdout",
     "output_type": "stream",
     "text": [
      "50.395437019999996\n"
     ]
    }
   ],
   "source": [
    "y=(61.272187*1.46)+-39.061956\n",
    "print(y)"
   ]
  },
  {
   "cell_type": "markdown",
   "id": "5086e563",
   "metadata": {},
   "source": [
    "### Machine Prediction"
   ]
  },
  {
   "cell_type": "code",
   "execution_count": 24,
   "id": "93a3ff97",
   "metadata": {},
   "outputs": [
    {
     "data": {
      "text/html": [
       "<div>\n",
       "<style scoped>\n",
       "    .dataframe tbody tr th:only-of-type {\n",
       "        vertical-align: middle;\n",
       "    }\n",
       "\n",
       "    .dataframe tbody tr th {\n",
       "        vertical-align: top;\n",
       "    }\n",
       "\n",
       "    .dataframe thead th {\n",
       "        text-align: right;\n",
       "    }\n",
       "</style>\n",
       "<table border=\"1\" class=\"dataframe\">\n",
       "  <thead>\n",
       "    <tr style=\"text-align: right;\">\n",
       "      <th></th>\n",
       "      <th>Height</th>\n",
       "    </tr>\n",
       "  </thead>\n",
       "  <tbody>\n",
       "    <tr>\n",
       "      <th>0</th>\n",
       "      <td>1.76</td>\n",
       "    </tr>\n",
       "    <tr>\n",
       "      <th>1</th>\n",
       "      <td>1.62</td>\n",
       "    </tr>\n",
       "    <tr>\n",
       "      <th>2</th>\n",
       "      <td>1.46</td>\n",
       "    </tr>\n",
       "  </tbody>\n",
       "</table>\n",
       "</div>"
      ],
      "text/plain": [
       "   Height\n",
       "0    1.76\n",
       "1    1.62\n",
       "2    1.46"
      ]
     },
     "execution_count": 24,
     "metadata": {},
     "output_type": "execute_result"
    }
   ],
   "source": [
    "test_data=pd.DataFrame(data={'Height':[1.76,1.62,1.46]})\n",
    "test_data"
   ]
  },
  {
   "cell_type": "code",
   "execution_count": 25,
   "id": "f04a4836",
   "metadata": {},
   "outputs": [
    {
     "data": {
      "text/plain": [
       "0    68.777092\n",
       "1    60.198986\n",
       "2    50.395436\n",
       "dtype: float64"
      ]
     },
     "execution_count": 25,
     "metadata": {},
     "output_type": "execute_result"
    }
   ],
   "source": [
    "stats_linear_model.predict(test_data)"
   ]
  },
  {
   "cell_type": "markdown",
   "id": "0519cc43",
   "metadata": {},
   "source": [
    "## 6.1 Model building and Model Training using sklearn Linear Regression"
   ]
  },
  {
   "cell_type": "code",
   "execution_count": 26,
   "id": "1e310f31",
   "metadata": {},
   "outputs": [],
   "source": [
    "x=pd.DataFrame(data['Height'])\n",
    "y=pd.DataFrame(data['Weight'])"
   ]
  },
  {
   "cell_type": "code",
   "execution_count": 27,
   "id": "55340418",
   "metadata": {},
   "outputs": [
    {
     "data": {
      "text/plain": [
       "((15, 1), (15, 1))"
      ]
     },
     "execution_count": 27,
     "metadata": {},
     "output_type": "execute_result"
    }
   ],
   "source": [
    "x.shape ,y.shape"
   ]
  },
  {
   "cell_type": "code",
   "execution_count": 28,
   "id": "8d036e14",
   "metadata": {},
   "outputs": [],
   "source": [
    "from sklearn.model_selection import train_test_split"
   ]
  },
  {
   "cell_type": "code",
   "execution_count": 29,
   "id": "46d969d1",
   "metadata": {},
   "outputs": [],
   "source": [
    "# Split X and y into training and test data sets\n",
    "x_train, x_test, y_train, y_test = train_test_split(x,y,test_size=0.2, random_state=2)"
   ]
  },
  {
   "cell_type": "code",
   "execution_count": 46,
   "id": "3f4eb8a5",
   "metadata": {},
   "outputs": [],
   "source": [
    "#fit the linear model\n",
    "from sklearn.linear_model import LinearRegression\n",
    "lm=LinearRegression()\n",
    "\n",
    "\n",
    "#train the model using training datasets\n",
    "lm.fit(x_train, y_train)\n",
    "\n",
    "\n",
    "#predict on the test data\n",
    "y_pred=lm.predict(x_test) #fitted_data\n"
   ]
  },
  {
   "cell_type": "markdown",
   "id": "155a4276",
   "metadata": {},
   "source": [
    "## Model slope and intercept term\n",
    "The model slope is given by lm.coef and model intercept term is given by lm.intercept."
   ]
  },
  {
   "cell_type": "code",
   "execution_count": 47,
   "id": "632cbc65",
   "metadata": {},
   "outputs": [],
   "source": [
    "m=lm.coef_ \n",
    "c=lm.intercept_"
   ]
  },
  {
   "cell_type": "code",
   "execution_count": 48,
   "id": "98193063",
   "metadata": {},
   "outputs": [
    {
     "name": "stdout",
     "output_type": "stream",
     "text": [
      "slope m: [[61.21160896]]\n",
      "intercept c: [-38.92819348]\n"
     ]
    }
   ],
   "source": [
    "print('slope m:',m)\n",
    "print('intercept c:',c)"
   ]
  },
  {
   "cell_type": "markdown",
   "id": "890ddac1",
   "metadata": {},
   "source": [
    "### So our fitted regression line is\n",
    "y=mx+c\n",
    "\n",
    "y=61.21160896*x + -38.92819348"
   ]
  },
  {
   "cell_type": "code",
   "execution_count": 49,
   "id": "f0d8d6d6",
   "metadata": {},
   "outputs": [
    {
     "data": {
      "text/html": [
       "<div>\n",
       "<style scoped>\n",
       "    .dataframe tbody tr th:only-of-type {\n",
       "        vertical-align: middle;\n",
       "    }\n",
       "\n",
       "    .dataframe tbody tr th {\n",
       "        vertical-align: top;\n",
       "    }\n",
       "\n",
       "    .dataframe thead th {\n",
       "        text-align: right;\n",
       "    }\n",
       "</style>\n",
       "<table border=\"1\" class=\"dataframe\">\n",
       "  <thead>\n",
       "    <tr style=\"text-align: right;\">\n",
       "      <th></th>\n",
       "      <th>Height</th>\n",
       "    </tr>\n",
       "  </thead>\n",
       "  <tbody>\n",
       "    <tr>\n",
       "      <th>0</th>\n",
       "      <td>1.77</td>\n",
       "    </tr>\n",
       "    <tr>\n",
       "      <th>1</th>\n",
       "      <td>1.62</td>\n",
       "    </tr>\n",
       "    <tr>\n",
       "      <th>2</th>\n",
       "      <td>1.46</td>\n",
       "    </tr>\n",
       "  </tbody>\n",
       "</table>\n",
       "</div>"
      ],
      "text/plain": [
       "   Height\n",
       "0    1.77\n",
       "1    1.62\n",
       "2    1.46"
      ]
     },
     "execution_count": 49,
     "metadata": {},
     "output_type": "execute_result"
    }
   ],
   "source": [
    "test_data2=pd.DataFrame(data={'Height':[1.77,1.62,1.46]})\n",
    "test_data2"
   ]
  },
  {
   "cell_type": "code",
   "execution_count": 50,
   "id": "f4277450",
   "metadata": {},
   "outputs": [
    {
     "data": {
      "text/plain": [
       "array([[68.80423829],\n",
       "       [60.23461303],\n",
       "       [50.4407556 ]])"
      ]
     },
     "execution_count": 50,
     "metadata": {},
     "output_type": "execute_result"
    }
   ],
   "source": [
    "#predicting the weight by giving the input data i.e., Height(test_data2)\n",
    "lm.predict(test_data)"
   ]
  },
  {
   "cell_type": "markdown",
   "id": "ef06e4fe",
   "metadata": {},
   "source": [
    "## Residual Analysis:"
   ]
  },
  {
   "cell_type": "code",
   "execution_count": 51,
   "id": "4de4d79f",
   "metadata": {},
   "outputs": [],
   "source": [
    "#For residuals check qq plot is available in statsmodel.api"
   ]
  },
  {
   "cell_type": "code",
   "execution_count": 52,
   "id": "91df7342",
   "metadata": {},
   "outputs": [],
   "source": [
    "import statsmodels.api as sm"
   ]
  },
  {
   "cell_type": "code",
   "execution_count": 53,
   "id": "b154927b",
   "metadata": {},
   "outputs": [
    {
     "data": {
      "image/png": "[encoded data removed]",
      "text/plain": [
       "<Figure size 432x288 with 1 Axes>"
      ]
     },
     "metadata": {
      "needs_background": "light"
     },
     "output_type": "display_data"
    }
   ],
   "source": [
    "residuals=stats_linear_model.resid\n",
    "sm.qqplot(residuals,line='q')\n",
    "plt.show()"
   ]
  },
  {
   "cell_type": "markdown",
   "id": "bdb9253b",
   "metadata": {},
   "source": [
    "## Homoscadasticity Test:\n",
    "   **An important assumption of the regression model is that the residual have constant varaince(homoscadasticity) accross differnt values of the predicted value(y).**"
   ]
  },
  {
   "cell_type": "code",
   "execution_count": 54,
   "id": "b81903dc",
   "metadata": {},
   "outputs": [
    {
     "data": {
      "text/plain": [
       "<matplotlib.collections.PathCollection at 0x16432075d90>"
      ]
     },
     "execution_count": 54,
     "metadata": {},
     "output_type": "execute_result"
    },
    {
     "data": {
      "image/png": "[encoded data removed]",
      "text/plain": [
       "<Figure size 432x288 with 1 Axes>"
      ]
     },
     "metadata": {
      "needs_background": "light"
     },
     "output_type": "display_data"
    }
   ],
   "source": [
    "plt.scatter(y_test,y_pred)"
   ]
  },
  {
   "cell_type": "code",
   "execution_count": 55,
   "id": "77c99e18",
   "metadata": {},
   "outputs": [],
   "source": [
    "#It is also forming a linear line,so from this my test data and my predicted are highly correlated"
   ]
  },
  {
   "cell_type": "markdown",
   "id": "a969210e",
   "metadata": {},
   "source": [
    "## Calculating Errors"
   ]
  },
  {
   "cell_type": "code",
   "execution_count": 72,
   "id": "ce400377",
   "metadata": {},
   "outputs": [],
   "source": [
    "from sklearn.metrics import mean_absolute_error,mean_squared_error,r2_score\n",
    "import numpy as np"
   ]
  },
  {
   "cell_type": "code",
   "execution_count": 74,
   "id": "ad2a0325",
   "metadata": {},
   "outputs": [
    {
     "name": "stdout",
     "output_type": "stream",
     "text": [
      "Mean Absolute Error: 0.1861568228105952\n",
      "Mean Squared Error: 0.06769870133966392\n",
      "Root Mean Squared Error: 0.2601897410346225\n",
      "R^2 Score :           0.9971193104365088\n"
     ]
    }
   ],
   "source": [
    "print('Mean Absolute Error:', mean_absolute_error(y_test, y_pred))  \n",
    "print('Mean Squared Error:', mean_squared_error(y_test, y_pred))  \n",
    "print('Root Mean Squared Error:', np.sqrt(mean_squared_error(y_test, y_pred)))\n",
    "print(\"R^2 Score :          \", r2_score(y_test, y_pred))"
   ]
  },
  {
   "cell_type": "markdown",
   "id": "5ccf0e89",
   "metadata": {},
   "source": [
    "# Conclusion:"
   ]
  },
  {
   "cell_type": "markdown",
   "id": "02ea1110",
   "metadata": {},
   "source": [
    ">So Wecan see that the model that was built is having highest R^2 value i.e., 99%\n",
    "And\n",
    "* Mean Absolute Error: 0.1861\n",
    "* Mean Squared Error: 0.0676\n",
    "* Root Mean Squared Error: 0.2601"
   ]
  },
  {
   "cell_type": "markdown",
   "id": "4a810742",
   "metadata": {},
   "source": [
    "# 7.Model Deployment"
   ]
  },
  {
   "cell_type": "code",
   "execution_count": 79,
   "id": "642e8bf0",
   "metadata": {},
   "outputs": [],
   "source": [
    "from pickle import dump"
   ]
  },
  {
   "cell_type": "code",
   "execution_count": 80,
   "id": "4f6ad0d1",
   "metadata": {},
   "outputs": [],
   "source": [
    "dump(stats_linear_model,open('model.pkl','wb'))"
   ]
  },
  {
   "cell_type": "code",
   "execution_count": 81,
   "id": "826d3fcc",
   "metadata": {},
   "outputs": [],
   "source": [
    "from pickle import load"
   ]
  },
  {
   "cell_type": "code",
   "execution_count": 82,
   "id": "0133aa72",
   "metadata": {},
   "outputs": [],
   "source": [
    "loaded_model= load(open('model.pkl','rb'))"
   ]
  },
  {
   "cell_type": "code",
   "execution_count": 83,
   "id": "77e783a3",
   "metadata": {},
   "outputs": [
    {
     "data": {
      "text/plain": [
       "0    68.777092\n",
       "1    60.198986\n",
       "2    50.395436\n",
       "dtype: float64"
      ]
     },
     "execution_count": 83,
     "metadata": {},
     "output_type": "execute_result"
    }
   ],
   "source": [
    "loaded_model.predict(test_data) #Using stats models"
   ]
  },
  {
   "cell_type": "code",
   "execution_count": 85,
   "id": "1751765a",
   "metadata": {},
   "outputs": [
    {
     "data": {
      "text/plain": [
       "0    69.389814\n",
       "1    60.198986\n",
       "2    50.395436\n",
       "dtype: float64"
      ]
     },
     "execution_count": 85,
     "metadata": {},
     "output_type": "execute_result"
    }
   ],
   "source": [
    "loaded_model.predict(test_data2) #Using sklearn Linear Model"
   ]
  },
  {
   "cell_type": "markdown",
   "id": "f37f273f",
   "metadata": {},
   "source": [
    "# THE END!"
   ]
  },
  {
   "cell_type": "code",
   "execution_count": null,
   "id": "e0a7f92e",
   "metadata": {},
   "outputs": [],
   "source": []
  }
 ],
 "metadata": {
  "kernelspec": {
   "display_name": "Python 3 (ipykernel)",
   "language": "python",
   "name": "python3"
  },
  "language_info": {
   "codemirror_mode": {
    "name": "ipython",
    "version": 3
   },
   "file_extension": ".py",
   "mimetype": "text/x-python",
   "name": "python",
   "nbconvert_exporter": "python",
   "pygments_lexer": "ipython3",
   "version": "3.9.7"
  }
 },
 "nbformat": 4,
 "nbformat_minor": 5
}
